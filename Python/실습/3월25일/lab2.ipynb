{
 "cells": [
  {
   "cell_type": "code",
   "execution_count": 25,
   "metadata": {},
   "outputs": [
    {
     "name": "stdout",
     "output_type": "stream",
     "text": [
      "[<h1> 태그의 콘텐츠] HTML의 링크 태그\n",
      "[텍스트 형식으로 내용을 가지고 있는 <a> 태그의 콘텐츠와 href 속성값]\n",
      "World Wide Consortium http://www.w3.org/\n",
      "Java Page http://java.sun.com/\n",
      "Python Page http://www.python.org/\n",
      "Web Client 기술 학습 http://www.w3schools.com/\n",
      "[<img> 태그의 src 속성값] http://unico2013.dothome.co.kr/image/duke.jpg\n",
      "[첫 번째 <h2> 태그의 콘텐츠] 좋아하는 색\n",
      "[<ul> 태그의 자식 태그들 중 style 속성의 값이 green으로 끝나는 태그의 콘텐츠] 녹색\n",
      "[두 번째 <h2> 태그의 콘텐츠] 먹고싶은 음식\n",
      "[<ul> 태그의 모든 자식 태그들의 콘텐츠]\n",
      " 파란색\n",
      "노란색\n",
      "녹색\n",
      "주황색\n",
      "[<table> 태그의 모든 자손 태그들의 콘텐츠] 둘리또치도우너\n",
      "케라토사우루스타조외계인\n",
      "도봉구 쌍문동아프리카깐따삐아 별\n",
      "[name이라는 클래스 속성을 갖는 <tr> 태그의 콘텐츠] 둘리또치도우너\n",
      "[target이라는 아이디 속성을 갖는 <td> 태그의 콘텐츠] 아프리카\n"
     ]
    }
   ],
   "source": [
    "import requests\n",
    "from bs4 import BeautifulSoup\n",
    "import re\n",
    "\n",
    "url = \"http://unico2013.dothome.co.kr/crawling/exercise_bs.html\"\n",
    "r = requests.get(url)\n",
    "r.encoding = \"utf-8\"\n",
    "bs = BeautifulSoup(r.text, 'html.parser')\n",
    "# 1번\n",
    "print('[<h1> 태그의 콘텐츠]', bs.h1.text)\n",
    "# 2번\n",
    "atags = bs.find_all('a')\n",
    "print('[텍스트 형식으로 내용을 가지고 있는 <a> 태그의 콘텐츠와 href 속성값]')\n",
    "for atag in atags:\n",
    "    if atag.text.strip():\n",
    "        print(atag.text, atag['href'])\n",
    "# 3번\n",
    "print('[<img> 태그의 src 속성값]', bs.img['src'])\n",
    "# 4번\n",
    "h2tags = bs.find_all('h2')\n",
    "print('[첫 번째 <h2> 태그의 콘텐츠]', h2tags[0].text)\n",
    "# 5번\n",
    "print(\"[<ul> 태그의 자식 태그들 중 style 속성의 값이 green으로 끝나는 태그의 콘텐츠]\", bs.ul.find(style=re.compile('green$')).text)\n",
    "# 6번\n",
    "print('[두 번째 <h2> 태그의 콘텐츠]', h2tags[1].text)\n",
    "# 7번\n",
    "ul_des=bs.ul.text\n",
    "print('[<ul> 태그의 모든 자식 태그들의 콘텐츠]\\n', ul_des.strip()) \n",
    "# 8번\n",
    "table_des = bs.table\n",
    "print('[<table> 태그의 모든 자손 태그들의 콘텐츠]',table_des.text.strip())\n",
    "# 9번\n",
    "tr_name = table_des.find('tr', class_= 'name')\n",
    "print('[name이라는 클래스 속성을 갖는 <tr> 태그의 콘텐츠]', tr_name.text)\n",
    "# 10번\n",
    "td_target = bs.find('td', id='target')\n",
    "print('[target이라는 아이디 속성을 갖는 <td> 태그의 콘텐츠]', td_target.text.strip())"
   ]
  },
  {
   "cell_type": "code",
   "execution_count": null,
   "metadata": {},
   "outputs": [],
   "source": [
    "\n"
   ]
  },
  {
   "cell_type": "code",
   "execution_count": null,
   "metadata": {},
   "outputs": [],
   "source": []
  }
 ],
 "metadata": {
  "kernelspec": {
   "display_name": "pydatavenv",
   "language": "python",
   "name": "pydatavenv"
  },
  "language_info": {
   "codemirror_mode": {
    "name": "ipython",
    "version": 3
   },
   "file_extension": ".py",
   "mimetype": "text/x-python",
   "name": "python",
   "nbconvert_exporter": "python",
   "pygments_lexer": "ipython3",
   "version": "3.8.8"
  }
 },
 "nbformat": 4,
 "nbformat_minor": 4
}
