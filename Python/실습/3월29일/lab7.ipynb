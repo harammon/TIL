{
 "cells": [
  {
   "cell_type": "code",
   "execution_count": 50,
   "metadata": {},
   "outputs": [],
   "source": [
    "from selenium import webdriver\n",
    "import re\n",
    "import time\n",
    "\n",
    "driver = webdriver.Chrome('C:/Temp/chromedriver')\n",
    "driver.implicitly_wait(3)\n",
    "\n",
    "driver.get('http://gs25.gsretail.com/gscvs/ko/products/event-goods')\n",
    "\n",
    "target=driver.find_element_by_css_selector(\"#TWO_TO_ONE\")\n",
    "target.click()"
   ]
  },
  {
   "cell_type": "code",
   "execution_count": 51,
   "metadata": {},
   "outputs": [],
   "source": [
    "goodsname=[]\n",
    "goodsprice=[]\n",
    "flag=\"\"\n",
    "while True:\n",
    "    names=driver.find_elements_by_css_selector(\"#contents > div.cnt > div.cnt_section.mt50 > div > div > div:nth-child(5) > ul > li> div > p.tit\")\n",
    "    prices=driver.find_elements_by_css_selector(\"#contents > div.cnt > div.cnt_section.mt50 > div > div > div:nth-child(5) > ul > li > div > p.price > span\")\n",
    "    if names[0].text==flag:\n",
    "        break\n",
    "    for name in names:\n",
    "        goodsname.append(name.text)\n",
    "    flag=names[0].text\n",
    "    #print(flag)\n",
    "    for price in prices:\n",
    "        a=re.sub('원|\\,', \"\", price.text)\n",
    "        goodsprice.append(a)\n",
    "    next=driver.find_element_by_css_selector(\"#contents > div.cnt > div.cnt_section.mt50 > div > div > div:nth-child(5) > div > a.next\")\n",
    "    next.click()\n",
    "    time.sleep(2)"
   ]
  },
  {
   "cell_type": "code",
   "execution_count": 52,
   "metadata": {},
   "outputs": [],
   "source": [
    "with open('output/gs25_twotoone.csv', \"wt\", encoding=\"ANSI\") as f: # wt : 텍스트 기반의 출력 모드로 open!\n",
    "    f.write('goodsname,goodsprice\\n') # 글의 맨 위에 작성될 것임  \n",
    "    for i in range(len(goodsname)):\n",
    "        f.write(goodsname[i]+\",\"+goodsprice[i]+'\\n')  "
   ]
  }
 ],
 "metadata": {
  "kernelspec": {
   "display_name": "pydatavenv",
   "language": "python",
   "name": "pydatavenv"
  },
  "language_info": {
   "codemirror_mode": {
    "name": "ipython",
    "version": 3
   },
   "file_extension": ".py",
   "mimetype": "text/x-python",
   "name": "python",
   "nbconvert_exporter": "python",
   "pygments_lexer": "ipython3",
   "version": "3.8.8"
  }
 },
 "nbformat": 4,
 "nbformat_minor": 4
}
